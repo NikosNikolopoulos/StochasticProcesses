{
 "cells": [
  {
   "cell_type": "markdown",
   "metadata": {},
   "source": [
    "# PYTHON VERSION"
   ]
  },
  {
   "cell_type": "code",
   "execution_count": 1,
   "metadata": {},
   "outputs": [],
   "source": [
    "import sys\n",
    "print(sys.version)"
   ]
  },
  {
   "cell_type": "markdown",
   "metadata": {},
   "source": [
    "# Escape times \n",
    "\n",
    "Random walks on $\\mathbb{Z}$ and $\\mathbb{Z}^2$"
   ]
  },
  {
   "cell_type": "code",
   "execution_count": 2,
   "metadata": {},
   "outputs": [],
   "source": [
    "import numpy as np\n",
    "from numpy.random import choice\n",
    "\n",
    "import matplotlib.pyplot as plt\n",
    "%matplotlib inline\n",
    "plt.rcParams['figure.figsize'] = (10, 6)  # default figure size"
   ]
  },
  {
   "cell_type": "markdown",
   "metadata": {},
   "source": [
    "## Simple Symmetric walk on $\\mathbb{Z}$\n",
    "\n",
    "For the simple symmetric walk on $\\mathbb{Z}$ the well-known `simple_markov_chain_lib` library will not be necessary here, a chain from scratch will be implemented.\n",
    "\n",
    "To implement a Markov chain (at least) 2 things are necessary:\n",
    "\n",
    "1. A variable to store the current state\n",
    "2. A \"function\" to give us the next state, which can depend on the present state and time.\n",
    "\n",
    "In the following code cell the simple symmetric random walk is implemented for iterations."
   ]
  },
  {
   "cell_type": "code",
   "execution_count": 3,
   "metadata": {},
   "outputs": [
    {
     "name": "stdout",
     "output_type": "stream",
     "text": [
      "-1\n",
      "0\n",
      "-1\n",
      "-2\n",
      "-1\n",
      "0\n",
      "-1\n",
      "-2\n",
      "-3\n",
      "-4\n"
     ]
    }
   ],
   "source": [
    "np.random.seed(2017)  # for reproducibility\n",
    "\n",
    "x = 0  # current state of MC\n",
    "steps = [-1, 1]\n",
    "probs = [0.5, 0.5]\n",
    "\n",
    "for n in range(10):\n",
    "    x += choice(steps, p=probs)  # select 1 step at random\n",
    "    print(x)\n",
    "    "
   ]
  },
  {
   "cell_type": "markdown",
   "metadata": {},
   "source": [
    "The variable `x` stores the existing state starting from 0. In each iteration one of the 2 possible steps (left or right) is added with equal probability.\n",
    "\n",
    "The function `choice` picks one of the 2 possible steps (`steps`) with probability (`p=probs`). For the case where all possibilities are equally likely, `p` can be omitted but is added here for completeness. "
   ]
  },
  {
   "cell_type": "code",
   "execution_count": 4,
   "metadata": {
    "jupyter": {
     "outputs_hidden": true
    }
   },
   "outputs": [],
   "source": [
    "# help on 'choice' function\n",
    "choice?"
   ]
  },
  {
   "cell_type": "markdown",
   "metadata": {},
   "source": [
    "## Python - Generators\n",
    "\n",
    "For convenience (and less writing) the walk is implemented as a `generator` function. \n",
    "A generator function works like a regular function except that it \"remembers\" its previous state.\n",
    "\n",
    "The previous example using a generator is written likewise:"
   ]
  },
  {
   "cell_type": "code",
   "execution_count": 5,
   "metadata": {},
   "outputs": [
    {
     "name": "stdout",
     "output_type": "stream",
     "text": [
      "-1\n",
      "0\n",
      "-1\n",
      "-2\n",
      "-1\n",
      "0\n",
      "-1\n",
      "-2\n",
      "-3\n",
      "-4\n"
     ]
    }
   ],
   "source": [
    "np.random.seed(2017)  # same results are previous run\n",
    "\n",
    "# random walk generator:\n",
    "def rand_walk_Z(start = 0, probs = (0.5, 0.5)):\n",
    "    x = start\n",
    "    steps = [-1, 1]  # probs order should be (left, right)\n",
    "    while True:  # continue for ever in needed\n",
    "        x += choice(steps, p=probs)\n",
    "        yield x  # it's a generator!\n",
    "\n",
    "walker = rand_walk_Z()  # start a new markov chain\n",
    "for n in range(10):\n",
    "    x = next(walker)  # take 1 step!\n",
    "    print(x)\n"
   ]
  },
  {
   "cell_type": "markdown",
   "metadata": {},
   "source": [
    "The command\n",
    "\n",
    "`walker = rand_walk_Z()` \n",
    "\n",
    "creates a new chain. The chain is in the initial state and waits to move on.\n",
    "When we give the command\n",
    "\n",
    "`x = next(walker)`\n",
    "\n",
    "Python runs the code until it finds the command **`yield`** and returns the variable x.\n",
    "\n",
    "A normal function would stop and \"disappear\" at this point, the next time you call it it would start over. But because of the `yield` keyword Python understands that the `rand_walk_Z` function is not a regular function but a *function generator*!\n",
    "\n",
    "Therefore, the next time the function is called with `next`, the execution will resume from `yield` (the point where it had stopped). Due to the `yield` definition inside of an *infinite loop* (`while true`) Python will continue to return values no matter how many times the chain is advanced (`next`) (that's why it's called a generator)."
   ]
  },
  {
   "cell_type": "markdown",
   "metadata": {},
   "source": [
    "### Application: Escape Time from Interval\n",
    "\n",
    "In this application simulations will be done for the simple symmetric walk to exit an interval $[a,b]$.\n",
    "\n",
    "\n",
    "The following code cell implements this case and visualizes the result with a time vs position graph for 3 different walks."
   ]
  },
  {
   "cell_type": "code",
   "execution_count": 6,
   "metadata": {},
   "outputs": [
    {
     "data": {
      "image/png": "[encoded data removed]",
      "text/plain": [
       "<Figure size 432x288 with 1 Axes>"
      ]
     },
     "metadata": {},
     "output_type": "display_data"
    }
   ],
   "source": [
    "fig, ax = plt.subplots()  # initiate plots\n",
    "\n",
    "a = -7  # lower boundary\n",
    "b = 10  # upper boundary\n",
    "\n",
    "for col in ['red', 'green', 'blue']:  # 3 random walks r-ed, g-reen, b-lue\n",
    "    walker = rand_walk_Z()  # start new symmetric walk from 0\n",
    "    x = 0  # start position 0\n",
    "    chain = [x]  # save positions to plot\n",
    "    while a <= x <= b:\n",
    "        x = next(walker)\n",
    "        chain.append(x)\n",
    "    ax.plot(chain, color=col)\n",
    "\n",
    "# To look nicer\n",
    "plt.axhspan(a, b, color = '#cccccc', alpha = 0.8)  # box between a & b\n",
    "ax.grid()  # adds grid lines\n",
    "plt.xlabel('Time')\n",
    "plt.ylabel('Position')\n",
    "\n",
    "# Show image!\n",
    "plt.show()"
   ]
  },
  {
   "cell_type": "markdown",
   "metadata": {},
   "source": [
    "### Further Information\n",
    "[Wikipedia - Donsker's invariance principle](https://en.wikipedia.org/wiki/Donsker%27s_theorem)"
   ]
  },
  {
   "cell_type": "markdown",
   "metadata": {},
   "source": [
    "## Random walk on $\\mathbb{Z}^2$\n",
    "\n",
    "To implement the random walk on $\\mathbb{Z}^2$ a new generator function is necessary. In the cell below we give you `rand_walk_Z2`.\n",
    "\n",
    "The logic is the same as `rand_walk_Z` just this time:\n",
    "\n",
    "* 2 variables `x, y` are used to determine the position\n",
    "* `steps` is a list of tables representing the possible shifts\n",
    "* In each iteration one element of `steps` is picked and added to `x` and `y` respectively."
   ]
  },
  {
   "cell_type": "code",
   "execution_count": 7,
   "metadata": {},
   "outputs": [],
   "source": [
    "# random walk in Z^2 generator:\n",
    "def rand_walk_Z2(start=(0, 0), probs=(0.25, 0.25, 0.25, 0.25)):\n",
    "    # probs order (left, right, bottom, up)\n",
    "    x, y = start\n",
    "    steps = [(-1, 0), (1, 0), (0, -1), (0, 1)]\n",
    "    while True:\n",
    "        dx, dy = steps[choice(4, p=probs)]  # choice(4) = choose a number in [0,3]\n",
    "        x, y = x + dx, y + dy\n",
    "        yield x, y"
   ]
  },
  {
   "cell_type": "markdown",
   "metadata": {},
   "source": [
    "## Application: Escape Time from Disk\n",
    "\n",
    "For familiarization purposes, the simple symmetric walk on $\\mathbb{Z}^2$ is implimented until the disk of radius $r = 20$ is abandoned.\n",
    "\n",
    "The code cell below simulates this chain 3 times."
   ]
  },
  {
   "cell_type": "code",
   "execution_count": 8,
   "metadata": {},
   "outputs": [
    {
     "data": {
      "image/png": "[encoded data removed]",
      "text/plain": [
       "<Figure size 432x288 with 1 Axes>"
      ]
     },
     "metadata": {},
     "output_type": "display_data"
    }
   ],
   "source": [
    "fig, ax = plt.subplots()  # initiate plots\n",
    "\n",
    "r = 20  # radius of circle boundary\n",
    "r2 = r**2  # square of radius\n",
    "\n",
    "for c in 'rgb':  # 3 random walks r-ed, g-reen, b-lue, 1st loop c=r, 2nd loop c=g, 3rd loop c=b \n",
    "    x, y = 0, 0  # start position 0\n",
    "    X, Y = [0], [0]  # store positions\n",
    "    walker = rand_walk_Z2()  # start new symmetric walk from 0, 0\n",
    "    while x**2 + y**2 < r2:\n",
    "        x, y = next(walker)\n",
    "        X.append(x)\n",
    "        Y.append(y)\n",
    "    #X = np.array(X) + np.random.randn(len(X))/3\n",
    "    #Y = np.array(Y) + np.random.randn(len(Y))/3\n",
    "    ax.plot(X, Y, color=c, alpha = 0.8)\n",
    "\n",
    "# To look nicer\n",
    "circle = plt.Circle((0, 0), r, color=\"#cccccc\", alpha=0.5)\n",
    "ax.add_artist(circle)  # draw a circle\n",
    "ax.set_xlim([-r-1, r+1])\n",
    "ax.set_ylim([-r-1, r+1])\n",
    "ax.set_aspect('equal')  # set aspect ratio 1:1\n",
    "ax.grid()  # adds grid lines\n",
    "plt.xlabel('X')\n",
    "plt.ylabel('Y')\n",
    "\n",
    "# To Show image!\n",
    "plt.show()"
   ]
  },
  {
   "cell_type": "markdown",
   "metadata": {},
   "source": [
    "The `alpha` parameter makes the lines more transparent to make the areas that the chain has visited multiple times a bit more obvious."
   ]
  },
  {
   "cell_type": "markdown",
   "metadata": {},
   "source": [
    "## Application: Output time distribution\n",
    "\n",
    "Next a simulation of the chain for `N = 1,000` times follows.\n",
    "For each simulation the time it took for the chain to exit the disk for the first time is stored."
   ]
  },
  {
   "cell_type": "code",
   "execution_count": 9,
   "metadata": {},
   "outputs": [],
   "source": [
    "r = 20  # radius of circle boundary\n",
    "r2 = r**2  # square of radius\n",
    "\n",
    "N = 1000  # sample size\n",
    "escape_time = np.zeros(N, dtype=int)  # to store the exit time\n",
    "for n in range(N):\n",
    "    walker = rand_walk_Z2()\n",
    "    x, y = (0, 0)\n",
    "    t = 0\n",
    "    while x**2 + y**2 < r2:\n",
    "        x, y = next(walker)\n",
    "        t += 1\n",
    "    escape_time[n] = t"
   ]
  },
  {
   "cell_type": "markdown",
   "metadata": {},
   "source": [
    "Now that N=1000 random samples of the output time have been created an estimation of its distribution can be given, by plotting the histogram of its values in our sample.\n",
    "\n",
    "In the code cell below this histogram is plotted by dividing the range of values of `escape_time` into 30 regions (`bin=30`)."
   ]
  },
  {
   "cell_type": "code",
   "execution_count": 10,
   "metadata": {},
   "outputs": [
    {
     "data": {
      "image/png": "[encoded data removed]",
      "text/plain": [
       "<Figure size 432x288 with 1 Axes>"
      ]
     },
     "metadata": {},
     "output_type": "display_data"
    }
   ],
   "source": [
    "plt.hist(escape_time, bins=30, edgecolor='black', density=True)\n",
    "plt.xlabel('Time')\n",
    "plt.ylabel('Density')\n",
    "plt.show()"
   ]
  }
 ],
 "metadata": {
  "kernelspec": {
   "display_name": "Python 3",
   "language": "python",
   "name": "python3"
  },
  "language_info": {
   "codemirror_mode": {
    "name": "ipython",
    "version": 3
   },
   "file_extension": ".py",
   "mimetype": "text/x-python",
   "name": "python",
   "nbconvert_exporter": "python",
   "pygments_lexer": "ipython3",
   "version": "3.6.5"
  }
 },
 "nbformat": 4,
 "nbformat_minor": 4
}
