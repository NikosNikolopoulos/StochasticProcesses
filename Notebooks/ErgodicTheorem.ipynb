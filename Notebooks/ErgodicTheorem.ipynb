{
 "cells": [
  {
   "cell_type": "markdown",
   "metadata": {},
   "source": [
    "# PYTHON VERSION"
   ]
  },
  {
   "cell_type": "code",
   "execution_count": 1,
   "metadata": {},
   "outputs": [
    {
     "name": "stdout",
     "output_type": "stream",
     "text": [
      "3.6.5 |Anaconda, Inc.| (default, Mar 29 2018, 13:32:41) [MSC v.1900 64 bit (AMD64)]\n"
     ]
    }
   ],
   "source": [
    "import sys\n",
    "print(sys.version)"
   ]
  },
  {
   "cell_type": "markdown",
   "metadata": {},
   "source": [
    "This exercise simulates a Markov Chain in $\\mathbb{X}=\\{0,1,2, \\dots\\}$ with transition probabilities\n",
    "\n",
    "$$p(k,k+1)=p<1 \\quad \\text{and} \\quad p(k,0)=1-p \\ \\forall \\ k \\ \\in \\ \\mathbb{X},$$ \n",
    "\n",
    "for $p = 1/2$.\n",
    "\n",
    "This chain in the state space $ \\mathbb{N} \\cup \\{0\\}$ is non-degenerate and recurrent, with an invariant distribution which is given by\n",
    "\n",
    "$$ \\pi(k) = \\frac{1}{2^{k+1}}, \\quad k = 0, 1, 2, 2, 3, ... .$$\n",
    "\n",
    "The code in the cell below simulates the first $N = 10^4$ steps of the chain \n",
    "and returns the mean\n",
    "\n",
    "$$\n",
    "\\frac{X_1 + X_2 + ... + X_N}{N}\n",
    "$$\n",
    "\n",
    "According to the ergodic theorem the above quantity converges as $N \\to \\infty$ with probability 1 to \n",
    "\n",
    "$$ \\sum_{k=0}^{\\infty} k \\pi(k) $$\n",
    "\n",
    "therefore, the code numerically calculates the above quantity with the Markov Chain Monte Carlo method\n",
    "Carlo (MCMC)."
   ]
  },
  {
   "cell_type": "code",
   "execution_count": 2,
   "metadata": {},
   "outputs": [
    {
     "name": "stdout",
     "output_type": "stream",
     "text": [
      "The simulated ergodic average [X1+X2+X3+...+XN]/N is: 0.9831\n"
     ]
    }
   ],
   "source": [
    "import numpy as np\n",
    "\n",
    "\n",
    "def random_walk_next(state):\n",
    "    if np.random.uniform() < 0.5:\n",
    "        return 0\n",
    "    return state + 1\n",
    "\n",
    "N = 10**4\n",
    "running_state = 0\n",
    "sum_result = 0\n",
    "\n",
    "for i in range(N):\n",
    "    running_state = random_walk_next(running_state)\n",
    "    sum_result += running_state\n",
    "\n",
    "    \n",
    "### Ergodic Limit Theorem\n",
    "print(\"The simulated ergodic average [X1+X2+X3+...+XN]/N is: %.4f\" % (sum_result / N))"
   ]
  },
  {
   "cell_type": "markdown",
   "metadata": {},
   "source": [
    "### Application\n",
    "\n",
    "1. Calculate analytically the above sum and then the error of the estimate.\n",
    "2. Alter the code to calculate the above sum 50 times \n",
    "and calculate the sample variance of the results.\n",
    "3. In order to reduce the sample standard deviation of the results by half, how large should N be taken? \n",
    "4. Write code which calculates the sum below making use of the MCMC method\n",
    "\n",
    "$$ \\sum_{k=0}^{\\infty} \\frac{\\cos(k + \\cos(k))}{2^k}. $$"
   ]
  },
  {
   "cell_type": "code",
   "execution_count": 3,
   "metadata": {},
   "outputs": [
    {
     "name": "stdout",
     "output_type": "stream",
     "text": [
      "The simulated ergodic average [X1+X2+X3+...+XN]/N is: 1.0103\n",
      "The analytical value of the ergodic average [X1+X2+X3+...+XN]/N is: 1.0000\n",
      "The relative error of the ergodic average [X1+X2+X3+...+XN]/N is: 1.0300\n"
     ]
    }
   ],
   "source": [
    "# Application\n",
    "# Question (1)\n",
    "#######################################################################################\n",
    "# Arithmetic approximation.\n",
    "\n",
    "def random_walk_next(state):\n",
    "    if np.random.uniform() < 0.5:\n",
    "        return 0\n",
    "    return state + 1\n",
    "\n",
    "N = 10**4\n",
    "running_state = 0\n",
    "sum_result = 0\n",
    "\n",
    "for i in range(N):\n",
    "    running_state = random_walk_next(running_state)\n",
    "    sum_result += running_state\n",
    "\n",
    "    \n",
    "### Ergodic Limit Theorem\n",
    "print(\"The simulated ergodic average [X1+X2+X3+...+XN]/N is: %.4f\" % (sum_result / N))\n",
    "#######################################################################################\n",
    "# Analytical calculation.\n",
    "sum_analytical = 0\n",
    "for i in range(N+1):\n",
    "    sum_analytical += i*2**(-i-1)\n",
    "print(\"The analytical value of the ergodic average [X1+X2+X3+...+XN]/N is: %.4f\" % (sum_analytical))\n",
    "#######################################################################################\n",
    "# Relative error calculation.\n",
    "print(\"The relative error of the ergodic average [X1+X2+X3+...+XN]/N is: %.4f\" % (100*abs(1-sum_result/(N*sum_analytical))))"
   ]
  },
  {
   "cell_type": "code",
   "execution_count": 4,
   "metadata": {},
   "outputs": [
    {
     "name": "stdout",
     "output_type": "stream",
     "text": [
      " The sample variance of the ergodic average [X1+X2+X3+...+XN]/N, for  50  iterations is 0.06266 \n",
      " The sample standard deviation of the ergodic average [X1+X2+X3+...+XN]/N, for  50  iterations is 0.25033 \n"
     ]
    }
   ],
   "source": [
    "# Question (2)\n",
    "import statistics as stat \n",
    "N          = 100\n",
    "iter       = 50\n",
    "estimates1  = []\n",
    "for i in range(iter):\n",
    "    running_state = 0\n",
    "    sum_result    = 0\n",
    "    for j in range(N):\n",
    "        running_state = random_walk_next(running_state)\n",
    "        sum_result   += running_state\n",
    "    estimates1.append(sum_result / N)\n",
    "print(\" The sample variance of the ergodic average [X1+X2+X3+...+XN]/N, for \", iter,\" iterations is {0:.5f} \".format(stat.variance(estimates1)))\n",
    "print(\" The sample standard deviation of the ergodic average [X1+X2+X3+...+XN]/N, for \", iter,\" iterations is {0:.5f} \".format(stat.stdev(estimates1)))"
   ]
  },
  {
   "cell_type": "code",
   "execution_count": 5,
   "metadata": {},
   "outputs": [
    {
     "name": "stdout",
     "output_type": "stream",
     "text": [
      "Current sample deviation is:  0.25032949714897196  our goal is to reach:  0.12516474857448598\n",
      "Totally N =  15000  steps were made\n"
     ]
    }
   ],
   "source": [
    "# Question (3)\n",
    "# Arithmetic approximation of total steps needed for cutting in half the previous standard deviation. \n",
    "# Equivallent of Central Limit Theorem but for Markov Chains... \n",
    "temp        = stat.stdev(estimates1)\n",
    "N           = 10**4\n",
    "iter        = 50\n",
    "while(temp>stat.stdev(estimates1)/2):\n",
    "    estimates2 = []\n",
    "    N         += 5000 # After various tests using the code (block) above 5000 seems to be a good value for the approximation error.\n",
    "    print(\"Current sample deviation is: \", temp,\" our goal is to reach: \",stat.stdev(estimates1)/2)\n",
    "    for i in range(iter):\n",
    "        running_state = 0\n",
    "        sum_result    = 0\n",
    "        for j in range(N):\n",
    "            running_state = random_walk_next(running_state)\n",
    "            sum_result   += running_state\n",
    "        estimates2.append(sum_result / N)\n",
    "    temp = stat.stdev(estimates2)\n",
    "print(\"Totally N = \",N,\" steps were made\")"
   ]
  },
  {
   "cell_type": "markdown",
   "metadata": {},
   "source": [
    "Question (4): \n",
    "\n",
    "The sum $$ \\sum_{k=0}^{\\infty} \\frac{\\cos(k + \\cos(k))}{2^k} $$ is calculated using the ergodic theorem assuming that the invariant distribution is equal to $$ \\pi(k) = \\frac{1}{2^{k+1}}, \\quad k = 0, 1, 2, 3, . .. $$. Essentially, by simply changing the function $f$ from the identity function $f(x)=x$ to $f(x)=2cos(x+cos(x))$ the mean converges to the sum $$ \\sum_{k=0}^{\\infty} f(k) \\pi(k) $$ according to the ergodic theorem."
   ]
  },
  {
   "cell_type": "code",
   "execution_count": 6,
   "metadata": {},
   "outputs": [
    {
     "name": "stdout",
     "output_type": "stream",
     "text": [
      "The simulated ergodic average [f(X1)+f(X2)+f(X3)+...+f(XN)]/N is: 0.4688\n",
      "The analytical value of the ergodic average [X1+X2+X3+...+XN]/N is: 0.4666\n",
      "The relative error of the ergodic average [X1+X2+X3+...+XN]/N is: 0.4551\n"
     ]
    }
   ],
   "source": [
    "from math import cos\n",
    "def random_walk_next2(state):\n",
    "    if np.random.uniform() < 0.5:\n",
    "        return 0\n",
    "    return state + 1\n",
    "\n",
    "N             = 10**4\n",
    "running_state = 0\n",
    "sum_result    = 0\n",
    "f             = 0\n",
    "\n",
    "for i in range(N):\n",
    "    running_state = random_walk_next2(running_state)\n",
    "    f             = 2*cos(running_state+cos(running_state))\n",
    "    sum_result   += f\n",
    "    \n",
    "### Ergodic Limit Theorem\n",
    "print(\"The simulated ergodic average [f(X1)+f(X2)+f(X3)+...+f(XN)]/N is: %.4f\" % (sum_result / N))\n",
    "#######################################################################################\n",
    "# Analytical calculation.\n",
    "sum_analytical = 0\n",
    "for i in range(N): # Max value of iterations is 2**10=1024 for int convertion to float.\n",
    "    sum_analytical += cos(i+cos(i))*0.5**i\n",
    "print(\"The analytical value of the ergodic average [X1+X2+X3+...+XN]/N is: %.4f\" % (sum_analytical))\n",
    "#######################################################################################\n",
    "# Relative error calculation.\n",
    "print(\"The relative error of the ergodic average [X1+X2+X3+...+XN]/N is: %.4f\" % (100*abs(1-sum_result/(N*sum_analytical))))"
   ]
  },
  {
   "cell_type": "markdown",
   "metadata": {},
   "source": [
    "### Volume of a Sphere - Revisited\n",
    "\n",
    "After becoming familiar with the use of the ergodic theorem, it can be used to solve\n",
    "the problem of calculating the volume of the N-dimensional ball. Recall the basic idea. If\n",
    "$$D_d=\\{(x_1,\\ldots,x_d)\\in\\mathbb{R}^d: x_1^2+x_2^2+\\cdots+x_d^2<1\\}$$\n",
    "is the unit ball in $d$ dimensions and \n",
    "$$C_{d}=D_{d-1}\\times (-1,1)$$\n",
    "a cylinder in $d$ dimensions with base $D_{d-1}$ and height 2, then\n",
    "$$\\frac{|\\, D_{d}\\,|}{|\\, C_{d}\\,|}=\\frac{|\\, D_{d}\\,|}{2|\\, D_{d-1}\\,|}=\\frac{\\omega(d)}{2\\,\\omega(d-1)}.$$\n",
    "Therefore, if the left-hand side can be numerically estimated, an estimation is automatically obtained\n",
    "for the ratio $\\omega(d)/\\omega(d-1)$. Since $\\omega(1)=2$, the above observation can help to inductively estimate the volume $\\omega(d)$ even for a large $d$.\n",
    "\n",
    "The ratio $\\frac{|\\, D_{d}\\,|}{|\\, C_{d}\\,|}$ has been estimated by taking $N$ independent random points on the cylinder $C_{d}$ and counting how many (nhits) of them fell inside the ball $D_{d}$. The probability that a uniformly selected point from the cylinder $C_{d}$ falls into the ball $D_{d}$ is $\\frac{|\\, D_{d}\\,|}{|\\, C_{d}\\,|}$. Therefore, as a consequence of the **law of large numbers** the rate nhits/$N$ when the number of points $N$ is large is a good estimate of the ratio $\\frac{|\\, D_{d}\\,|}{|\\, C_{d}\\,|}$. \n",
    "\n",
    "In order to get a point randomly from the cylinder it is sufficient to pick the first $d$ coordinates uniformly from the disk $D_{d-1}$ and the last coordinate uniformly from (-1,1). The second objective is a simple command. To achieve the first objective a Markovian chain is considered on the ball $D_{d-1}$ with a uniform invariant distribution on the ball $D_{d-1}$ for several (n) steps for it to come close to equilibrium. Therefore, a total of $n$ steps of the chain is necessary: to get each of the $N$ samples $n$ steps for the chain must be executed.\n",
    "\n",
    "The **ergodic theorem** is going to be used to calculate the ratio $\\frac{|\\, D_{d}\\,|}{|\\, C_{d}\\,|}$. In particular, a Markovian chain will be constructed on the cylinder $C_{d}$ with invariant distribution uniform. The ergodic theorem yields that the fraction of time the chain spends on the ball $D_d$ over time, approximates the weight that the invariant distribution gives to the ball $D_d$, i.e. the ratio $\\frac{|\\,D_d\\,|}{|\\, C_{d}\\,|}$. In order to compare with the results obtained from the law of large numbers,for $M=nN$ total steps of the chain on the cylinder $C_{d}$ the number of steps inside the ball $D_d$ will be counted. \n",
    "\n",
    "In order to construct a chain ${Y_n}$ on the cylinder $C_d$ with a uniform invariant distribution, a chain ${Y_n}$ on the cylinder $C_d$ must be constructed with a uniform distribution on the cylinder, a chain ${X_n}$ on the ball $D_{d-1}$ with invariant distribution the uniform distribution on the ball $D_{d-1}$ is also necessary and a sequence ${Z_n}$ of independent uniform random variables with uniform distribution on (-1,1) to define $Y_n=(X_n,Z_n)$. "
   ]
  }
 ],
 "metadata": {
  "kernelspec": {
   "display_name": "Python 3",
   "language": "python",
   "name": "python3"
  },
  "language_info": {
   "codemirror_mode": {
    "name": "ipython",
    "version": 3
   },
   "file_extension": ".py",
   "mimetype": "text/x-python",
   "name": "python",
   "nbconvert_exporter": "python",
   "pygments_lexer": "ipython3",
   "version": "3.6.5"
  }
 },
 "nbformat": 4,
 "nbformat_minor": 4
}
