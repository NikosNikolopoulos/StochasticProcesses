{
 "cells": [
  {
   "cell_type": "markdown",
   "metadata": {},
   "source": [
    "# PYTHON VERSION"
   ]
  },
  {
   "cell_type": "code",
   "execution_count": 1,
   "metadata": {},
   "outputs": [
    {
     "name": "stdout",
     "output_type": "stream",
     "text": [
      "3.6.5 |Anaconda, Inc.| (default, Mar 29 2018, 13:32:41) [MSC v.1900 64 bit (AMD64)]\n"
     ]
    }
   ],
   "source": [
    "import sys\n",
    "print(sys.version)"
   ]
  },
  {
   "cell_type": "markdown",
   "metadata": {},
   "source": [
    "# Rejection sampling in large dimensions.\n",
    "\n",
    "Already knowing how to uniformly select a sample from a surface $D$ in the plane, the area of any disk can easily be calculated. This method can be extended in an obvious way to more dimensions. The idea is that if a point is randomly taken inside the cube with center 0 and side 2, then the probability of this point being inside the unit ball is \n",
    "\n",
    "$$p(d)=\\frac{\\omega(d)}{2^d}.$$\n",
    "\n",
    "So if a large number $N$ of points is taken inside the cube, by the law of large numbers, the percentage of them that will \"fall\" into the ball is a good estimate of $p(d)$. This is exactly what the *vol* function defined in the routine below does."
   ]
  },
  {
   "cell_type": "code",
   "execution_count": null,
   "metadata": {},
   "outputs": [],
   "source": []
  },
  {
   "cell_type": "code",
   "execution_count": 2,
   "metadata": {},
   "outputs": [
    {
     "name": "stdout",
     "output_type": "stream",
     "text": [
      "The Monte Carlo estimate of ω( 3 ) is  : 4.20320 \n"
     ]
    }
   ],
   "source": [
    "from numpy import random\n",
    "\n",
    "def vol(N,d):\n",
    "    nhits = 0\n",
    "    for i in range(N):\n",
    "        x = random.uniform(-1,1,d)\n",
    "        if sum(x ** 2) < 1: \n",
    "            nhits += 1\n",
    "    return 2 ** d * nhits / N\n",
    "\n",
    "d = 3\n",
    "N = 10_000       \n",
    "print (\"The Monte Carlo estimate of ω(\", d,\") is  : %.5f \" % vol (N,d))"
   ]
  },
  {
   "cell_type": "markdown",
   "metadata": {},
   "source": [
    "The following function returns the volume of the unit ball in $d$ dimensions using the analytic formula: \n",
    "$$\\omega(d) =\\frac{\\pi^{d/2}}{\\Gamma\\big(\\frac{d}{2}+1\\big)}$$ "
   ]
  },
  {
   "cell_type": "code",
   "execution_count": 3,
   "metadata": {},
   "outputs": [
    {
     "name": "stdout",
     "output_type": "stream",
     "text": [
      "The actual value of ω( 3 ) is  : 4.18879 \n"
     ]
    }
   ],
   "source": [
    "from math import gamma, pi \n",
    "\n",
    "def Vol1(d):\n",
    "    x = d/2\n",
    "    return pi ** x / gamma(x + 1)\n",
    "\n",
    "print(\"The actual value of ω(\", d,\") is  : %.5f \" % Vol1(d))"
   ]
  },
  {
   "cell_type": "markdown",
   "metadata": {},
   "source": [
    "#### Sampling with MCMC\n",
    "The rejection method is not practical for sampling from a large-dimensional sphere. This problem can be solved using ideas from Markov Chain Monte Carlo (MCMC)\n",
    "\n",
    "In particular, for a irreducible Markov chain with symmetric transition probabilities, the only invariant distribution is the uniform distribution in state space. Indeed, because the transition probabilities are symmetric the transition probability matrix will be doubly stochastic. Therefore, in order to randomly select a point from a space $D$, we can consider a Markovian chain that evolves in $D$, has symmetric transition probabilities and let it take enough steps to come close to its equilibrium state. \n",
    "\n",
    "One way to achieve this is as follows. Let $X_n= x\\in D$. We will try to move by $z$ where the step distribution $z$ is symmetric around 0. If the point $x+z$ remains inside $D$ we will make the move, i.e. we will define $X_{n+1}=x+z$, otherwise we will remain in $x$, i.e. we will define $X_{n+1}=x$. \n",
    "\n",
    "The following algorithm implements this idea to take 1,000 samples of a random variable with a uniform distribution on the unit disk\n",
    "\n",
    "$$\n",
    "D_2=\\{(x,y)\\in\\mathbb{R}^2: x^2+y^2 < 1\\}.\n",
    "$$\n",
    "\n",
    "The chain starts from zero and at each step tries a parallel shift to one of the axes, \n",
    "with a uniform distribution in `(-delta, +delta)`. \n",
    "If the displacement would drive the chain out of the disk, it is not realized and the chain remains in the position it was in at the previous time. We allow the chain to take $N=100$ steps before taking a sample."
   ]
  },
  {
   "cell_type": "code",
   "execution_count": 4,
   "metadata": {},
   "outputs": [],
   "source": [
    "import random as r\n",
    "\n",
    "delta = 1.0\n",
    "N = 100 # number of steps to approach equilibrium\n",
    "samples = 1000 \n",
    "point_x = []\n",
    "point_y = []\n",
    "\n",
    "for _ in range(samples):\n",
    "    x = [0,0]  ## start at the centre of th disc. This variable will keep the position of the chain\n",
    "    R_sq = 0.0  ## this variable keeps the squared distance from 0. It saves some computations to keep it\n",
    "    \n",
    "    for _ in range(N):\n",
    "        k = r.choice([0,1])  ## choose a jump direction at random\n",
    "        z = r.uniform(-delta,delta) ## choose a jump size uniformly in (-delta,delta)\n",
    "        x_prop_k = x[k] + z   ## propose a jump by z in the direction k\n",
    "        R_sqprop = R_sq - x[k]**2+ x_prop_k**2 ## compute the squared distance from 0 after the proposed jump \n",
    "        if R_sqprop < 1.0: \n",
    "            R_sq = R_sqprop\n",
    "            x[k]= x_prop_k   ## if the proposed jump leads to a point in the disc, then jump\n",
    "   \n",
    "    point_x.append(x[0])\n",
    "    point_y.append(x[1])"
   ]
  },
  {
   "cell_type": "markdown",
   "metadata": {},
   "source": [
    "Next up taking a sample from the cylinder:\n",
    "\n",
    "$$\n",
    "C_3=\\{\\,(x_1,x_2,x_3)\\in\\mathbb{R}^{3}:(x_1,x_2)\\in D_2,\\, |x_3| <1\\}.\n",
    "$$ \n",
    "\n",
    "This could be done by selecting $(x_1,x_2)$ uniformly on the disk $D_2$ and then the coordinate $x_3$ uniformly on (-1,+1). The probability that a randomly selected point from cylinder $C_3$ falls inside the ball $D_3=\\{(x_1,x_2,x_3)\\in\\mathbb{R}^3: x_1^2+x_2^2+x_3^2<1\\}$ is then \n",
    "\n",
    "$$ \\frac{|D_3|}{|C_3|}= \\frac{|D_3|}{2|D_2|}$$\n",
    "\n",
    "since the volume of the cylinder $|C_2|$ is the base surface area ($|D_2||$) times its height (2). Using samples from cylinder $C_3$ and counting how many of them fell into $D_2$ we can therefore estimate the ratio $|D_3|/|D_2|$.\n",
    "\n",
    "This procedure can be generalized to $d$ dimensions without problem. It is not difficult to modify the above algorithm to take random points in the $d$-dimensional unit ball\n",
    "\n",
    "$$ D_d = \\{(x_1,\\ldots,x_{d})\\in\\mathbb{R}^{d}:\\ x_1^2+\\cdots+x_d^2 <1\\}.$$ \n",
    "\n",
    "The chain by construction remains inside the $D_d$ ball, so the only problem we have to solve is to let the chain take enough steps to get close to equilibrium. \n",
    "Then just by taking random points from the cylinder \n",
    "\n",
    "$$\n",
    "C_{d+1}=\\{\\,(x_1,\\ldots,x_{d+1})\\in\\mathbb{R}^{d+1}:(x_1,\\ldots,x_d)\\in D_d,\\, |x_{d+1} | <1\\}.\n",
    "$$\n",
    "\n",
    "choosing their first $d$ coordinates uniformly in $D_d$ and the last one uniformly in (-1,1) the volume can be estimated.\n",
    "The percentage of these points falling inside the ball $D_{d+1}$ can give us an estimate of the ratio $|D_{d+1}|/|D_d|$."
   ]
  },
  {
   "cell_type": "markdown",
   "metadata": {},
   "source": [
    "## Application 1\n",
    "\n",
    "i) Write a routine that prints for dimensions $d=2,3,...$ the Monte Carlo estimated volume of the unit ball in $d$ dimensions, its actual value and the relative error of the estimate. Your routine should select $N=10^6$ points in the corresponding cube of each dimension, and should reach up to that dimension value where none of the $N$ selected points fell on the ball. \n",
    "\n",
    "ii) Plot the graph $d- \\log p(d)$ for the theoretical value of the probability $p(d)$ (notice that the relative error of the estimate in (i) gets larger as the dimensions increase).\n",
    "\n",
    "From the above we see that *in large dimensions, the fraction of the unit cube occupied by the ball inscribed in it is very small*. That is, in large dimensions, most of the points of the unit cube are located at its \"corners\". This is perhaps contrary to the intuition we have from 2 and 3 dimensions."
   ]
  },
  {
   "cell_type": "code",
   "execution_count": 5,
   "metadata": {},
   "outputs": [
    {
     "name": "stdout",
     "output_type": "stream",
     "text": [
      "The Monte Carlo estimate of ω( 2 ) is  : 3.14336 \n",
      "The actual value of ω( 2 ) is  : 3.14159 \n",
      "The the realtive error for d =  2  is  : 0.03499 \n",
      "The Monte Carlo estimate of ω( 3 ) is  : 4.18478 \n",
      "The actual value of ω( 3 ) is  : 4.18879 \n",
      "The the realtive error for d =  3  is  : 0.03442 \n",
      "The Monte Carlo estimate of ω( 4 ) is  : 4.91784 \n",
      "The actual value of ω( 4 ) is  : 4.93480 \n",
      "The the realtive error for d =  4  is  : 0.08759 \n",
      "The Monte Carlo estimate of ω( 5 ) is  : 5.25264 \n",
      "The actual value of ω( 5 ) is  : 5.26379 \n",
      "The the realtive error for d =  5  is  : 0.08475 \n",
      "The Monte Carlo estimate of ω( 6 ) is  : 5.17613 \n",
      "The actual value of ω( 6 ) is  : 5.16771 \n",
      "The the realtive error for d =  6  is  : 0.27802 \n",
      "The Monte Carlo estimate of ω( 7 ) is  : 4.68672 \n",
      "The actual value of ω( 7 ) is  : 4.72477 \n",
      "The the realtive error for d =  7  is  : 0.38948 \n",
      "The Monte Carlo estimate of ω( 8 ) is  : 4.05350 \n",
      "The actual value of ω( 8 ) is  : 4.05871 \n",
      "The the realtive error for d =  8  is  : 0.52569 \n",
      "The Monte Carlo estimate of ω( 9 ) is  : 3.29779 \n",
      "The actual value of ω( 9 ) is  : 3.29851 \n",
      "The the realtive error for d =  9  is  : 0.84441 \n",
      "The Monte Carlo estimate of ω( 10 ) is  : 2.57331 \n",
      "The actual value of ω( 10 ) is  : 2.55016 \n",
      "The the realtive error for d =  10  is  : 2.15249 \n",
      "The Monte Carlo estimate of ω( 11 ) is  : 1.88211 \n",
      "The actual value of ω( 11 ) is  : 1.88410 \n",
      "The the realtive error for d =  11  is  : 3.59004 \n",
      "The Monte Carlo estimate of ω( 12 ) is  : 1.27795 \n",
      "The actual value of ω( 12 ) is  : 1.33526 \n",
      "The the realtive error for d =  12  is  : 10.12544 \n",
      "The Monte Carlo estimate of ω( 13 ) is  : 0.85197 \n",
      "The actual value of ω( 13 ) is  : 0.91063 \n",
      "The the realtive error for d =  13  is  : 1.65460 \n",
      "The Monte Carlo estimate of ω( 14 ) is  : 0.60621 \n",
      "The actual value of ω( 14 ) is  : 0.59926 \n",
      "The the realtive error for d =  14  is  : 6.62670 \n",
      "The Monte Carlo estimate of ω( 15 ) is  : 0.32768 \n",
      "The actual value of ω( 15 ) is  : 0.38144 \n",
      "The the realtive error for d =  15  is  : 3.08636 \n",
      "The Monte Carlo estimate of ω( 16 ) is  : 0.39322 \n",
      "The actual value of ω( 16 ) is  : 0.23533 \n",
      "The the realtive error for d =  16  is  : 16.45456 \n",
      "The Monte Carlo estimate of ω( 17 ) is  : 0.13107 \n",
      "The actual value of ω( 17 ) is  : 0.14098 \n",
      "The the realtive error for d =  17  is  : 100.00000 \n"
     ]
    }
   ],
   "source": [
    "# Application 1\n",
    "# (i)\n",
    "# Subroutine includes vol function, for the approximation of the volume of the unit sphere.\n",
    "\n",
    "d = 2\n",
    "N = 1000000  \n",
    "while(vol(N,d)>0): # if vol(N,d)>0 then nhits=0\n",
    "    print (\"The Monte Carlo estimate of ω(\", d,\") is  : %.5f \" % vol (N,d))\n",
    "    print(\"The actual value of ω(\", d,\") is  : %.5f \" % Vol1(d))\n",
    "    print(\"The the realtive error for d = \", d,\" is  : %.5f \" % (100*abs(1-vol(N,d)/Vol1(d))))\n",
    "    d += 1"
   ]
  },
  {
   "cell_type": "code",
   "execution_count": 7,
   "metadata": {},
   "outputs": [
    {
     "data": {
      "image/png": "[encoded data removed]",
      "text/plain": [
       "<Figure size 432x288 with 2 Axes>"
      ]
     },
     "metadata": {},
     "output_type": "display_data"
    }
   ],
   "source": [
    "# (ii)\n",
    "import matplotlib.pyplot as plt\n",
    "import numpy as np\n",
    "P = []\n",
    "D = []\n",
    "for d in range(2,17): # for d = 17 (dimension) nhits = 0 in the previous block of code\n",
    "    p = Vol1(d)/2**d\n",
    "    P.append(p)\n",
    "    D.append(d)\n",
    "\n",
    "logP = np.log10(P)\n",
    "\n",
    "plt.subplot(1, 2, 1) \n",
    "plt.plot(D,logP)\n",
    "plt.ylabel('logp')\n",
    "plt.xlabel('dimension')\n",
    "plt.title('d - logp')\n",
    "plt.grid(True)  \n",
    "\n",
    "plt.subplot(1, 2, 2) \n",
    "plt.plot(D,P)\n",
    "plt.ylabel('p')\n",
    "plt.xlabel('dimension')\n",
    "plt.title('d - p')\n",
    "plt.grid(True)  "
   ]
  },
  {
   "cell_type": "markdown",
   "metadata": {},
   "source": [
    "## Application 2\n",
    "\n",
    "(i) Construct a scatter plot showing the 1000 samples taken from disk $D_2$ with the above MCMC algorithm. Then do the same for delta = 0.01 and for delta = 20. Explain in a text cell why the resulting graph 'breaks down' when delta is \"too small\" or \"too large\"?\n",
    "\n",
    "(ii) Write a routine that prints for dimensions $d=2,3,...,100$ the MCMC-estimated volume of the unit ball in $d$ dimensions, its true value and the relative error of the estimate. You can start from the obvious relation $|D_1|=2$ and work inductively to compute ω(2), ω(3),... etc."
   ]
  },
  {
   "cell_type": "code",
   "execution_count": 8,
   "metadata": {},
   "outputs": [],
   "source": [
    "# Application 2\n",
    "###############################################################################################################\n",
    "def mcmcplot(samples,delta):\n",
    "    N = 100         ## number of steps to approach equilibrium\n",
    "    point_x = []\n",
    "    point_y = []\n",
    "\n",
    "    for i in range(samples):\n",
    "        x = [0,0]   ## start at the centre of th disc. This variable will keep the position of the chain\n",
    "        R_sq = 0.0  ## this variable keeps the squared distance from 0. It saves some computations to keep it\n",
    "        for j in range(N):\n",
    "            k = r.choice([0,1])                    ## choose a jump direction at random\n",
    "            z = r.uniform(-delta,delta)            ## choose a jump size uniformly in (-delta,delta)\n",
    "            x_prop_k = x[k] + z                    ## propose a jump by z in the direction k\n",
    "            R_sqprop = R_sq - x[k]**2+ x_prop_k**2 ## compute the squared distance from 0 after the proposed jump \n",
    "            if R_sqprop < 1.0: \n",
    "                R_sq = R_sqprop\n",
    "                x[k]= x_prop_k                     ## if the proposed jump leads to a point in the disc, then jump\n",
    "        point_x.append(x[0])\n",
    "        point_y.append(x[1])\n",
    "    ## Plotting code:\n",
    "    fig, ax = plt.subplots()\n",
    "\n",
    "    plt.scatter(point_x, point_y, color = 'green', s = 1) # parameter s determines the size of each dot in the scatter plot\n",
    "\n",
    "    ax.set_xlim([-1, 1])\n",
    "    ax.set_ylim([-1, 1])\n",
    "    ax.set_aspect('equal')  # set aspect ratio 1:1\n",
    "\n",
    "    plt.show()\n",
    "###############################################################################################################"
   ]
  },
  {
   "cell_type": "code",
   "execution_count": 9,
   "metadata": {},
   "outputs": [
    {
     "data": {
      "image/png": "[encoded data removed]",
      "text/plain": [
       "<Figure size 432x288 with 1 Axes>"
      ]
     },
     "metadata": {},
     "output_type": "display_data"
    },
    {
     "data": {
      "image/png": "[encoded data removed]",
      "text/plain": [
       "<Figure size 432x288 with 1 Axes>"
      ]
     },
     "metadata": {},
     "output_type": "display_data"
    },
    {
     "data": {
      "image/png": "[encoded data removed]",
      "text/plain": [
       "<Figure size 432x288 with 1 Axes>"
      ]
     },
     "metadata": {},
     "output_type": "display_data"
    }
   ],
   "source": [
    "########################\n",
    "samples = 1000\n",
    "delta   = 1.0\n",
    "mcmcplot(samples,delta)\n",
    "########################\n",
    "samples = 1000\n",
    "delta   = 0.01\n",
    "mcmcplot(samples,delta)\n",
    "########################\n",
    "samples = 1000\n",
    "delta   = 20.0\n",
    "mcmcplot(samples,delta)\n",
    "########################"
   ]
  },
  {
   "cell_type": "markdown",
   "metadata": {},
   "source": [
    "#### (i)\n",
    "\n",
    "The graphs above have been plotted for `samples=1000` and for `delta=1.0, 0.01 & 20.0` respectively. We observe that for `delta=1.0` the points are distributed uniformly over the entire area of the unit disk, while for the other two values (`delta=0.01` and `delta=20.0`) the 1000 points (samples) show peculiar distributions within the same area. In particular, for `delta = 0.01`, the points are all concentrated near the beginning of the axes (0,0), which is due to the jumps z according to the formula: `z = r. uniform(-delta,delta)` and `x_prop_k = x[k] + z`, i.e. the variable z is a variable which takes values (randomly w.r.t the uniform distribution) within the interval (-0.01,0.01). Therefore, with such small jumps the points appear concentrated in a neighborhood of (0,0). As for the case where `delta = 20.0`, we observe in the corresponding graph that the experimental points show a preference on the `x=0` and `y=0` axes over the other points on the unit disk. That is, for large values of delta, the experimental points seem to cluster back on the `x=0` and `y=0` axes, which may be due to the interval (-20.0,20.0) in which the variable z takes values. All the numbers within this interval have the same probability of being chosen according to the uniform distribution, in our case we accept only the numbers that satisfy the condition: `R_sqprop < 1.0`, where `R_sqprop` is the square of the distance of the (new) point after the jump z from the origin of the axes."
   ]
  },
  {
   "cell_type": "code",
   "execution_count": 10,
   "metadata": {},
   "outputs": [],
   "source": [
    "# (ii)\n",
    "import numpy as np\n",
    "import random \n",
    "\n",
    "###########################################################################################\n",
    "def mcmc(samples,delta,d): ## d = dim\n",
    "    N       = 100          ## number of steps to approach equilibrium\n",
    "    nhits   = 0\n",
    "\n",
    "    x = np.zeros(d)   ## start at the centre of the disc. This variable will keep the position of the chain\n",
    "    R_sq = 0.0        ## this variable keeps the squared distance from 0. It saves some computations to keep it\n",
    "    for i in range(samples):\n",
    "        for j in range(N):\n",
    "            k = random.randint(0,d-1)               ## choose a jump direction at random\n",
    "            z = random.uniform(-delta,delta)        ## choose a jump size uniformly in (-delta,delta)\n",
    "            x_prop_k = x[k] + z                     ## propose a jump by z in the direction k\n",
    "            R_sqprop = R_sq - x[k]**2+ x_prop_k**2  ## compute the squared distance from 0 after the proposed jump \n",
    "            if(R_sqprop < 1.0): \n",
    "                R_sq = R_sqprop\n",
    "                x[k]= x_prop_k                      ## if the proposed jump leads to a point in the disc, then jump\n",
    "                nhits+=1                            ## checking if R_sqprop < 1.0 after equilibrium. \n",
    "    return(nhits/(N*samples))                       ## probability of the speciment to hit the untitary sphere of d-dimensions\n",
    "###########################################################################################"
   ]
  },
  {
   "cell_type": "code",
   "execution_count": 11,
   "metadata": {},
   "outputs": [
    {
     "name": "stdout",
     "output_type": "stream",
     "text": [
      "The probability of the speciment to hit the untitary sphere of d-dimensions =  1 is:  0.75002\n",
      "The probability of the speciment to hit the untitary sphere of d-dimensions =  2 is:  0.68749\n",
      "The probability of the speciment to hit the untitary sphere of d-dimensions =  3 is:  0.63839\n",
      "The probability of the speciment to hit the untitary sphere of d-dimensions =  4 is:  0.60342\n",
      "The probability of the speciment to hit the untitary sphere of d-dimensions =  5 is:  0.57152\n",
      "The probability of the speciment to hit the untitary sphere of d-dimensions =  6 is:  0.5401\n",
      "The probability of the speciment to hit the untitary sphere of d-dimensions =  7 is:  0.51492\n",
      "The probability of the speciment to hit the untitary sphere of d-dimensions =  8 is:  0.49318\n",
      "The probability of the speciment to hit the untitary sphere of d-dimensions =  9 is:  0.47387\n",
      "The probability of the speciment to hit the untitary sphere of d-dimensions =  10 is:  0.45509\n",
      "The probability of the speciment to hit the untitary sphere of d-dimensions =  11 is:  0.443\n",
      "The probability of the speciment to hit the untitary sphere of d-dimensions =  12 is:  0.42763\n",
      "The probability of the speciment to hit the untitary sphere of d-dimensions =  13 is:  0.41308\n",
      "The probability of the speciment to hit the untitary sphere of d-dimensions =  14 is:  0.39851\n",
      "The probability of the speciment to hit the untitary sphere of d-dimensions =  15 is:  0.38947\n",
      "The probability of the speciment to hit the untitary sphere of d-dimensions =  16 is:  0.38037\n",
      "The probability of the speciment to hit the untitary sphere of d-dimensions =  17 is:  0.36777\n",
      "The probability of the speciment to hit the untitary sphere of d-dimensions =  18 is:  0.35836\n",
      "The probability of the speciment to hit the untitary sphere of d-dimensions =  19 is:  0.34988\n",
      "The probability of the speciment to hit the untitary sphere of d-dimensions =  20 is:  0.34401\n",
      "The probability of the speciment to hit the untitary sphere of d-dimensions =  21 is:  0.33303\n",
      "The probability of the speciment to hit the untitary sphere of d-dimensions =  22 is:  0.32853\n",
      "The probability of the speciment to hit the untitary sphere of d-dimensions =  23 is:  0.31933\n",
      "The probability of the speciment to hit the untitary sphere of d-dimensions =  24 is:  0.316\n",
      "The probability of the speciment to hit the untitary sphere of d-dimensions =  25 is:  0.31116\n",
      "The probability of the speciment to hit the untitary sphere of d-dimensions =  26 is:  0.30684\n",
      "The probability of the speciment to hit the untitary sphere of d-dimensions =  27 is:  0.29728\n",
      "The probability of the speciment to hit the untitary sphere of d-dimensions =  28 is:  0.29192\n",
      "The probability of the speciment to hit the untitary sphere of d-dimensions =  29 is:  0.28855\n",
      "The probability of the speciment to hit the untitary sphere of d-dimensions =  30 is:  0.28411\n",
      "The probability of the speciment to hit the untitary sphere of d-dimensions =  31 is:  0.28009\n",
      "The probability of the speciment to hit the untitary sphere of d-dimensions =  32 is:  0.27248\n",
      "The probability of the speciment to hit the untitary sphere of d-dimensions =  33 is:  0.27209\n",
      "The probability of the speciment to hit the untitary sphere of d-dimensions =  34 is:  0.27079\n",
      "The probability of the speciment to hit the untitary sphere of d-dimensions =  35 is:  0.26322\n",
      "The probability of the speciment to hit the untitary sphere of d-dimensions =  36 is:  0.26325\n",
      "The probability of the speciment to hit the untitary sphere of d-dimensions =  37 is:  0.25675\n",
      "The probability of the speciment to hit the untitary sphere of d-dimensions =  38 is:  0.25324\n",
      "The probability of the speciment to hit the untitary sphere of d-dimensions =  39 is:  0.25281\n",
      "The probability of the speciment to hit the untitary sphere of d-dimensions =  40 is:  0.24789\n",
      "The probability of the speciment to hit the untitary sphere of d-dimensions =  41 is:  0.24551\n",
      "The probability of the speciment to hit the untitary sphere of d-dimensions =  42 is:  0.24242\n",
      "The probability of the speciment to hit the untitary sphere of d-dimensions =  43 is:  0.23932\n",
      "The probability of the speciment to hit the untitary sphere of d-dimensions =  44 is:  0.23903\n",
      "The probability of the speciment to hit the untitary sphere of d-dimensions =  45 is:  0.23263\n",
      "The probability of the speciment to hit the untitary sphere of d-dimensions =  46 is:  0.23505\n",
      "The probability of the speciment to hit the untitary sphere of d-dimensions =  47 is:  0.22993\n",
      "The probability of the speciment to hit the untitary sphere of d-dimensions =  48 is:  0.22887\n",
      "The probability of the speciment to hit the untitary sphere of d-dimensions =  49 is:  0.22226\n",
      "The probability of the speciment to hit the untitary sphere of d-dimensions =  50 is:  0.22541\n",
      "The probability of the speciment to hit the untitary sphere of d-dimensions =  51 is:  0.21825\n",
      "The probability of the speciment to hit the untitary sphere of d-dimensions =  52 is:  0.2174\n",
      "The probability of the speciment to hit the untitary sphere of d-dimensions =  53 is:  0.21717\n",
      "The probability of the speciment to hit the untitary sphere of d-dimensions =  54 is:  0.21344\n",
      "The probability of the speciment to hit the untitary sphere of d-dimensions =  55 is:  0.21105\n",
      "The probability of the speciment to hit the untitary sphere of d-dimensions =  56 is:  0.20839\n",
      "The probability of the speciment to hit the untitary sphere of d-dimensions =  57 is:  0.20993\n",
      "The probability of the speciment to hit the untitary sphere of d-dimensions =  58 is:  0.20506\n",
      "The probability of the speciment to hit the untitary sphere of d-dimensions =  59 is:  0.20653\n",
      "The probability of the speciment to hit the untitary sphere of d-dimensions =  60 is:  0.20088\n",
      "The probability of the speciment to hit the untitary sphere of d-dimensions =  61 is:  0.2025\n",
      "The probability of the speciment to hit the untitary sphere of d-dimensions =  62 is:  0.19708\n",
      "The probability of the speciment to hit the untitary sphere of d-dimensions =  63 is:  0.19562\n",
      "The probability of the speciment to hit the untitary sphere of d-dimensions =  64 is:  0.19691\n",
      "The probability of the speciment to hit the untitary sphere of d-dimensions =  65 is:  0.19607\n",
      "The probability of the speciment to hit the untitary sphere of d-dimensions =  66 is:  0.19519\n",
      "The probability of the speciment to hit the untitary sphere of d-dimensions =  67 is:  0.19115\n",
      "The probability of the speciment to hit the untitary sphere of d-dimensions =  68 is:  0.19377\n",
      "The probability of the speciment to hit the untitary sphere of d-dimensions =  69 is:  0.1918\n",
      "The probability of the speciment to hit the untitary sphere of d-dimensions =  70 is:  0.19018\n",
      "The probability of the speciment to hit the untitary sphere of d-dimensions =  71 is:  0.18655\n",
      "The probability of the speciment to hit the untitary sphere of d-dimensions =  72 is:  0.18688\n",
      "The probability of the speciment to hit the untitary sphere of d-dimensions =  73 is:  0.18692\n",
      "The probability of the speciment to hit the untitary sphere of d-dimensions =  74 is:  0.18441\n",
      "The probability of the speciment to hit the untitary sphere of d-dimensions =  75 is:  0.18212\n",
      "The probability of the speciment to hit the untitary sphere of d-dimensions =  76 is:  0.18242\n",
      "The probability of the speciment to hit the untitary sphere of d-dimensions =  77 is:  0.17997\n",
      "The probability of the speciment to hit the untitary sphere of d-dimensions =  78 is:  0.17751\n",
      "The probability of the speciment to hit the untitary sphere of d-dimensions =  79 is:  0.17603\n",
      "The probability of the speciment to hit the untitary sphere of d-dimensions =  80 is:  0.17706\n",
      "The probability of the speciment to hit the untitary sphere of d-dimensions =  81 is:  0.17512\n",
      "The probability of the speciment to hit the untitary sphere of d-dimensions =  82 is:  0.17787\n",
      "The probability of the speciment to hit the untitary sphere of d-dimensions =  83 is:  0.17192\n",
      "The probability of the speciment to hit the untitary sphere of d-dimensions =  84 is:  0.17005\n",
      "The probability of the speciment to hit the untitary sphere of d-dimensions =  85 is:  0.17255\n",
      "The probability of the speciment to hit the untitary sphere of d-dimensions =  86 is:  0.17142\n",
      "The probability of the speciment to hit the untitary sphere of d-dimensions =  87 is:  0.16883\n"
     ]
    },
    {
     "name": "stdout",
     "output_type": "stream",
     "text": [
      "The probability of the speciment to hit the untitary sphere of d-dimensions =  88 is:  0.16843\n",
      "The probability of the speciment to hit the untitary sphere of d-dimensions =  89 is:  0.168\n",
      "The probability of the speciment to hit the untitary sphere of d-dimensions =  90 is:  0.16462\n",
      "The probability of the speciment to hit the untitary sphere of d-dimensions =  91 is:  0.16407\n",
      "The probability of the speciment to hit the untitary sphere of d-dimensions =  92 is:  0.16393\n",
      "The probability of the speciment to hit the untitary sphere of d-dimensions =  93 is:  0.16359\n",
      "The probability of the speciment to hit the untitary sphere of d-dimensions =  94 is:  0.16106\n",
      "The probability of the speciment to hit the untitary sphere of d-dimensions =  95 is:  0.16037\n",
      "The probability of the speciment to hit the untitary sphere of d-dimensions =  96 is:  0.16048\n",
      "The probability of the speciment to hit the untitary sphere of d-dimensions =  97 is:  0.16279\n",
      "The probability of the speciment to hit the untitary sphere of d-dimensions =  98 is:  0.15951\n",
      "The probability of the speciment to hit the untitary sphere of d-dimensions =  99 is:  0.15956\n"
     ]
    }
   ],
   "source": [
    "for d in range(1,100):\n",
    "    print(\"The probability of the speciment to hit the untitary sphere of d-dimensions = \", d, \"is: \", mcmc(1000,1.0,d))"
   ]
  }
 ],
 "metadata": {
  "kernelspec": {
   "display_name": "Python 3",
   "language": "python",
   "name": "python3"
  },
  "language_info": {
   "codemirror_mode": {
    "name": "ipython",
    "version": 3
   },
   "file_extension": ".py",
   "mimetype": "text/x-python",
   "name": "python",
   "nbconvert_exporter": "python",
   "pygments_lexer": "ipython3",
   "version": "3.6.5"
  }
 },
 "nbformat": 4,
 "nbformat_minor": 4
}
