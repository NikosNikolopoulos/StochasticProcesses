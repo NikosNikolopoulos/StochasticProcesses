{
 "cells": [
  {
   "cell_type": "markdown",
   "metadata": {},
   "source": [
    "# PYTHON VERSION"
   ]
  },
  {
   "cell_type": "code",
   "execution_count": 1,
   "metadata": {},
   "outputs": [
    {
     "name": "stdout",
     "output_type": "stream",
     "text": [
      "3.6.5 |Anaconda, Inc.| (default, Mar 29 2018, 13:32:41) [MSC v.1900 64 bit (AMD64)]\n"
     ]
    }
   ],
   "source": [
    "import sys\n",
    "print(sys.version)"
   ]
  },
  {
   "cell_type": "markdown",
   "metadata": {},
   "source": [
    "# THEOREM\n",
    "If the sequence $\\{\\pi_n\\}_n$ of the distributions of a Markov chain $\\{X_n\\}_{n \\in \\mathbb{N}}$, with transition probability matrix $P$, converges to the distribution $\\pi(x)\\in \\mathcal{M}(\\mathbb{X})$ then: \n",
    "\n",
    "\n",
    "$$\\pi =\\pi P, \\text{ or equivalently } \\pi(x)= \\sum_{y \\in \\mathbb{X}}\\pi(y)p(y,x), \\ \\forall \\ x \\in \\mathbb{X}.$$"
   ]
  },
  {
   "cell_type": "markdown",
   "metadata": {},
   "source": [
    "##  Example\n",
    "\n",
    "In this example the above Theorem will be confirmed experimentally for a chain on $\\mathbb{X} = \\{1, 2, 3, 4\\}$\n",
    "with a transition probability matrix\n",
    "\n",
    "$$\n",
    "P = \n",
    "\\begin{pmatrix}\n",
    "0 & 1/2 & 1/2 & 0 \\\\\n",
    "1/3 & 0 & 0 & 2/3 \\\\\n",
    "0 & 0 & 4/5 & 1/5 \\\\\n",
    "3/5 & 0 & 0 & 2/5  \n",
    "\\end{pmatrix}\n",
    "$$\n",
    "\n",
    "The following code simulates $N=100,000$ walks around the state $1$ and estimates\n",
    "with Monte Carlo the expected number of visits to each state during a walk around state $1$."
   ]
  },
  {
   "cell_type": "code",
   "execution_count": 2,
   "metadata": {},
   "outputs": [
    {
     "name": "stdout",
     "output_type": "stream",
     "text": [
      "Expected Visits starting from 1:\n",
      "1: 1.000\n",
      "2: 0.501\n",
      "3: 2.501\n",
      "4: 1.389\n"
     ]
    }
   ],
   "source": [
    "from simple_markov_chain_lib import markov_chain\n",
    "\n",
    "## Build Markov Chain\n",
    "markov_table = {\n",
    "    1: {2: 0.5, 3: 0.5},\n",
    "    2: {1: 1/3, 4: 2/3},\n",
    "    3: {3: 0.8, 4: 0.2},\n",
    "    4: {1: 0.6, 4: 0.4}\n",
    "}\n",
    "\n",
    "init_dist = {1: 1.0} #the chain starts from state 1 since we are interested in excursions around state 1.\n",
    "\n",
    "mc = markov_chain(markov_table, init_dist)\n",
    "\n",
    "N = 100_000\n",
    "\n",
    "##Initialize the dictionary \"visits\". Every state is a key of this dictionary, with value 0\n",
    "visits = {state: 0 for state in (1, 2, 3, 4)} \n",
    "\n",
    "mc.start()\n",
    "completed = 0\n",
    "\n",
    "##Simulate N excursions. Every time we complete an excursion we increase completed by 1.\n",
    "while completed < N:\n",
    "    visits[mc.running_state] += 1\n",
    "    mc.move()\n",
    "    if mc.running_state == 1:\n",
    "        completed +=1\n",
    "\n",
    "print(\"Expected Visits starting from 1:\")\n",
    "for x, y in visits.items():\n",
    "    print(\"%d: %.3f\" % (x, y / N))\n"
   ]
  },
  {
   "cell_type": "markdown",
   "metadata": {},
   "source": [
    "## Application\n",
    "\n",
    "If a point is chosen randomly (in a uniform way) from a square $S$ with center $(0,0)$ and side length $2$, the probability that this point \\say{falls} on the unit disk $D = \\{(x, y) \\in S : x^2 + y^2 < 1\\}$ is\n",
    "\n",
    "$$ p = \\frac{\\left|\\,D\\,\\right|}{\\left|\\, S\\,\\right|} = \\frac{\\pi}{4} $$\n",
    "\n",
    "The code in the cell below uses this simple observation to numerically estimate $\\pi$. It produces a large number (`Ntrials`) of points with uniform distribution in $S$. $X_i$ is equal to 1 or 0, depending on whether or not the $i$-point belongs to the unit disk $D$. The $${X_i}_i$$ are independent random variables with distribution $Be(p)$. Their sum (`Nhits`) is the number of points that fell on $D$. The \\textbf{law of large numbers} yields that, for large Ntrials, the percentage of points that fell on $D$ (`Nhits/Ntrials`) is a good estimator of $p=\\pi/4$. The last two lines of code show the actual value of $\\pi$ and the % error of the estimate."
   ]
  },
  {
   "cell_type": "code",
   "execution_count": 3,
   "metadata": {},
   "outputs": [
    {
     "name": "stdout",
     "output_type": "stream",
     "text": [
      "Monte Carlo estimator of Pi: 3.14247\n",
      "Actual value of Pi up to 5 decimal digits: 3.14159\n",
      "The relative error is 0.02799%\n"
     ]
    }
   ],
   "source": [
    "from numpy import random, pi\n",
    "\n",
    "Ntrials, Nhits = 1_000_000, 0\n",
    "for n in range(Ntrials):\n",
    "    x, y = random.uniform(-1, 1, 2) # draw 2 samples, each uniformly distributed over (-1,1)\n",
    "    if x**2 + y**2 < 1:\n",
    "        Nhits += 1\n",
    "\n",
    "print(\"Monte Carlo estimator of Pi: %.5f\" % (4 * Nhits / Ntrials))\n",
    "print(\"Actual value of Pi up to 5 decimal digits: %.5f\" % pi)\n",
    "print(\"The relative error is %.5f%%\" % (100 * abs(1- (4 * Nhits)/(pi * Ntrials))))"
   ]
  },
  {
   "cell_type": "markdown",
   "metadata": {},
   "source": [
    "The above idea also allows for sampling with uniform distribution on the unit disk $D$. \n",
    "\n",
    "1. A point in $S$ is chosen randomly (in a uniform way).\n",
    "2. If it belongs to $D$, it gets stored. Otherwise, return to step (1). \n",
    "\n",
    "In other words, points $X$ in $S$ are randomly selected and continue the process until a point that belongs to $D$ is selected. \n",
    "This sampling method is called the \\textbf{rejection sampling method}. The fact that at the output of the algorithm a point $Y$ with a uniform distribution in $D$ is returned, can be verified by the following calculation\n",
    "\n",
    "$$\\mathbb{P}\\big[Y\\in A\\subset D\\big]=\\mathbb{P}\\big[X\\in A\\,\\big|\\, X\\in D\\big]=\\frac{\\mathbb{P}\\big[X\\in A\\cap D\\big]}{\\mathbb{P}\\big[X\\in D\\big]}=\\frac{|\\, A\\,|}{|\\, D\\,|}$$\n",
    "\n",
    "In the cell below this technique is used to produce 10,000 random points in $D$. \n",
    "At the same time, the discarded points are also stored."
   ]
  },
  {
   "cell_type": "code",
   "execution_count": 4,
   "metadata": {},
   "outputs": [
    {
     "name": "stdout",
     "output_type": "stream",
     "text": [
      "Total number of samples drawn 12778\n",
      "Number of samples in the disk 10000\n"
     ]
    }
   ],
   "source": [
    "# Parameters\n",
    "N = 10_000  # number of required points\n",
    "Ntrials, Nhits = 0, 0\n",
    "acc_x, acc_y = [], []  # accepted x, y\n",
    "rej_x, rej_y = [], []  # rejected x, y\n",
    "\n",
    "# Rejection Sampling\n",
    "while Nhits < N:\n",
    "    Ntrials += 1\n",
    "    x, y = random.uniform(-1, 1, 2)\n",
    "    if x**2 + y**2 < 1:\n",
    "        acc_x.append(x)\n",
    "        acc_y.append(y)\n",
    "        Nhits += 1\n",
    "    else:\n",
    "        rej_x.append(x)\n",
    "        rej_y.append(y)\n",
    "\n",
    "print(\"Total number of samples drawn %d\" % Ntrials)\n",
    "print(\"Number of samples in the disk %d\" % N)\n"
   ]
  },
  {
   "cell_type": "markdown",
   "metadata": {},
   "source": [
    "The points that belong to the disc are coloured green and the points that do not belong to the disc are coloured red."
   ]
  },
  {
   "cell_type": "code",
   "execution_count": 5,
   "metadata": {},
   "outputs": [
    {
     "data": {
      "text/plain": [
       "<Figure size 640x480 with 1 Axes>"
      ]
     },
     "metadata": {},
     "output_type": "display_data"
    }
   ],
   "source": [
    "import matplotlib.pyplot as plt\n",
    "\n",
    "fig, ax = plt.subplots()\n",
    "\n",
    "plt.scatter(acc_x, acc_y, color = 'green', s = 1) # parameter s determines the size of each dot in the scatter plot\n",
    "plt.scatter(rej_x, rej_y, color = 'red', s = 1)\n",
    "\n",
    "ax.set_xlim([-1, 1])\n",
    "ax.set_ylim([-1, 1])\n",
    "ax.set_aspect('equal')  # set aspect ratio 1:1\n",
    "\n",
    "plt.show()"
   ]
  },
  {
   "cell_type": "markdown",
   "metadata": {},
   "source": [
    "## Application\n",
    "\n",
    "Continuing in the jupyter notebook you opened for Deliverable 1, answer the following questions.\n",
    "\n",
    "#### (I)\n",
    "\n",
    "Consider $N=10^6$ samples in the cube with center (0,0,0) and side 2. Estimate the volume of the unit sphere in 3 dimensions and compare with the theoretical value $V(3) = \\frac{4 \\pi}{3}$. Your code should print the estimated value of $V(3)$, its theoretical value, and the relative error of the estimate.  \n",
    "\n",
    "\n",
    "#### (II) \n",
    "\n",
    "Obtain a sample of $N=10,000$ points with a uniform distribution in the lemma  \n",
    "\n",
    "$$ L = \\{ (x, y) \\in \\mathbb{R}^2: \\{ (x^2 + y^2) \\} ^2 \\leq 2 |xy| ) \\} $$\n",
    "\n",
    "Your code should also:\n",
    "\n",
    "1. construct a diagram where the points you rejected and the points in $L$ are shown in a different color and\n",
    "2. return the number of samples in $S$ that it took to produce $N$ samples in $L$\n",
    "\n",
    "#### (III)\n",
    "\n",
    "Write code that estimates the area of $L$ and the value of the integral\n",
    "\n",
    "$$ I = \\iint_{L}\\, |x + y| \\, {dxdy} $$\n",
    "\n",
    "(Hint: If $X=(X_1,X_2)$ is a random vector with a uniform distribution in the lattice $L$, then the quantity $I/||,L\\,|$ is the mean value $\\mathbb{E}\\big[\\,|\\,X_1+X_2\\,|\\,\\big]$.)"
   ]
  },
  {
   "cell_type": "code",
   "execution_count": 6,
   "metadata": {},
   "outputs": [
    {
     "name": "stdout",
     "output_type": "stream",
     "text": [
      "Monte Carlo estimator of V(1)=4π/3: 4.19022\n",
      "Actual value of V(1)=4π/3 up to 5 decimal digits: 4.18879\n",
      "The relative error is 0.03422%\n"
     ]
    }
   ],
   "source": [
    "# Application I\n",
    "\n",
    "from numpy import random, pi\n",
    "# Parameters\n",
    "N = 1_000_000  # number of required points\n",
    "Ntrials, Nhits = 0, 0\n",
    "\n",
    "# Rejection Sampling\n",
    "while Nhits < N:\n",
    "    Ntrials += 1\n",
    "    x, y, z = random.uniform(-1, 1, 3)\n",
    "    if x**2 + y**2 + z**2< 1:\n",
    "        Nhits += 1\n",
    "\n",
    "print(\"Monte Carlo estimator of V(1)=4π/3: %.5f\" % (8*Nhits/Ntrials))\n",
    "print(\"Actual value of V(1)=4π/3 up to 5 decimal digits: %.5f\" % (4.0/3.0*pi))\n",
    "print(\"The relative error is %.5f%%\" % (100 * abs(1-8*Nhits/Ntrials/(4.0/3.0*pi))))"
   ]
  },
  {
   "cell_type": "code",
   "execution_count": 7,
   "metadata": {},
   "outputs": [
    {
     "name": "stdout",
     "output_type": "stream",
     "text": [
      "Total number of samples drawn 200278\n",
      "Number of samples in the designated area 100000\n"
     ]
    },
    {
     "data": {
      "image/png": "[encoded data removed]",
      "text/plain": [
       "<Figure size 432x288 with 1 Axes>"
      ]
     },
     "metadata": {},
     "output_type": "display_data"
    }
   ],
   "source": [
    "# Application II\n",
    "# Parameters\n",
    "N = 100_000  # number of required points\n",
    "Ntrials, Nhits = 0, 0\n",
    "acc_x, acc_y = [], []  # accepted x, y\n",
    "rej_x, rej_y = [], []  # rejected x, y\n",
    "\n",
    "# Rejection Sampling\n",
    "while Nhits < N:\n",
    "    Ntrials += 1\n",
    "    x, y = random.uniform(-1, 1, 2)\n",
    "    if (x**2 + y**2)**2 <= 2*abs(x*y):\n",
    "        acc_x.append(x)\n",
    "        acc_y.append(y)\n",
    "        Nhits += 1\n",
    "    else:\n",
    "        rej_x.append(x)\n",
    "        rej_y.append(y)\n",
    "\n",
    "print(\"Total number of samples drawn %d\" % Ntrials)\n",
    "print(\"Number of samples in the designated area %d\" % N)\n",
    "# Plotting \n",
    "import matplotlib.pyplot as plt\n",
    "\n",
    "fig, ax = plt.subplots()\n",
    "\n",
    "plt.scatter(acc_x, acc_y, color = 'green', s = 1) # parameter s determines the size of each dot in the scatter plot\n",
    "plt.scatter(rej_x, rej_y, color = 'red', s = 1)\n",
    "\n",
    "ax.set_xlim([-1, 1])\n",
    "ax.set_ylim([-1, 1])\n",
    "ax.set_aspect('equal')  # set aspect ratio 1:1\n",
    "\n",
    "plt.show()"
   ]
  },
  {
   "cell_type": "code",
   "execution_count": 8,
   "metadata": {},
   "outputs": [
    {
     "name": "stdout",
     "output_type": "stream",
     "text": [
      "Monte Carlo estimator of the area of L: 2.00124\n",
      "Estimation of the integral I: 0.99111\n"
     ]
    }
   ],
   "source": [
    "# Application III\n",
    "from numpy import random\n",
    "# Parameters\n",
    "N = 1_000_000  # number of required points\n",
    "Ntrials, Nhits = 0, 0\n",
    "sum = 0\n",
    "\n",
    "# Rejection Sampling\n",
    "while Nhits < N:\n",
    "    Ntrials += 1\n",
    "    x, y = random.uniform(-1, 1, 2)\n",
    "    if (x**2 + y**2)**2 <= 2*abs(x*y):\n",
    "        Nhits += 1\n",
    "        sum += abs(x + y)\n",
    "mean = sum / N\n",
    "\n",
    "print(\"Monte Carlo estimator of the area of L: %.5f\" % (4*Nhits/Ntrials))\n",
    "print(\"Estimation of the integral I: %.5f\" % (4*Nhits/Ntrials*mean))"
   ]
  }
 ],
 "metadata": {
  "kernelspec": {
   "display_name": "Python 3",
   "language": "python",
   "name": "python3"
  },
  "language_info": {
   "codemirror_mode": {
    "name": "ipython",
    "version": 3
   },
   "file_extension": ".py",
   "mimetype": "text/x-python",
   "name": "python",
   "nbconvert_exporter": "python",
   "pygments_lexer": "ipython3",
   "version": "3.6.5"
  }
 },
 "nbformat": 4,
 "nbformat_minor": 4
}
